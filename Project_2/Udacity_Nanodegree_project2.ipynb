{
 "cells": [
  {
   "cell_type": "markdown",
   "metadata": {},
   "source": [
    "# 1.Introduction\n",
    "In this project, I will use the Titanic Data Set which include a sample of passengers on the Titanic, including whether \n",
    "they survived, gender, age, siblings / spouses, parents and children, fare (cost of ticket), embarkation port.\n",
    "\n",
    "I will ask the following questions after reading the Data Set:\n",
    "\n",
    "Which gender had a better chance of survival?\n",
    "\n",
    "Which social class had a better chance of survival?\n",
    "\n",
    "Which age group had a better chance of survival?"
   ]
  },
  {
   "cell_type": "markdown",
   "metadata": {},
   "source": [
    "# 2.Setting up\n",
    "In order to analyse and report on the data, I have choosen to use ipython notebook, along with the numpy, pandas, \n",
    "matplotlib.pyplot and seaborn python modules. In order to use these modules they needed to be imported into the \n",
    "notebook first as per below."
   ]
  },
  {
   "cell_type": "code",
   "execution_count": 74,
   "metadata": {
    "collapsed": false
   },
   "outputs": [
    {
     "name": "stdout",
     "output_type": "stream",
     "text": [
      "Populating the interactive namespace from numpy and matplotlib\n"
     ]
    },
    {
     "name": "stderr",
     "output_type": "stream",
     "text": [
      "WARNING: pylab import has clobbered these variables: ['f', 'table']\n",
      "`%matplotlib` prevents importing * from pylab and numpy\n"
     ]
    }
   ],
   "source": [
    "import numpy as np\n",
    "import pandas as pd\n",
    "import matplotlib.pyplot as plt\n",
    "import seaborn as sns\n",
    "import ipy_table as tbl\n",
    "from numbers import Number\n",
    "from scipy import stats\n",
    "\n",
    "%pylab inline\n",
    "\n",
    "def as_percent(val, precision='0.2'):\n",
    "    \"\"\"Convert number to percentage string.\"\"\"\n",
    "    if isinstance(val, Number):\n",
    "        return \"{{:{}%}}\".format(precision).format(val)\n",
    "    else:\n",
    "        raise TypeError(\"Numeric type required\")\n",
    "\n",
    "def calculate_percentage(val, total, format_percent = False):\n",
    "    \"\"\"Calculates the percentage of a value over a total\"\"\"\n",
    "    percent = np.divide(val, total, dtype=float)\n",
    "    if format_percent:\n",
    "        percent = as_percent(percent)\n",
    "    return percent"
   ]
  },
  {
   "cell_type": "markdown",
   "metadata": {
    "collapsed": true
   },
   "source": [
    "# 3.Read file from csv"
   ]
  },
  {
   "cell_type": "code",
   "execution_count": 75,
   "metadata": {
    "collapsed": true
   },
   "outputs": [],
   "source": [
    "titanic_df = pd.read_csv('titanic_data.csv')"
   ]
  },
  {
   "cell_type": "markdown",
   "metadata": {},
   "source": [
    "# 4.Data Wrangling\n",
    "Before working with the data I needed to look at what needed to be cleaned up, like remove redundant, find missing data."
   ]
  },
  {
   "cell_type": "markdown",
   "metadata": {},
   "source": [
    "## 4.1 Investigating Dataset and finding missing / incomplete data"
   ]
  },
  {
   "cell_type": "code",
   "execution_count": 76,
   "metadata": {
    "collapsed": false
   },
   "outputs": [
    {
     "name": "stdout",
     "output_type": "stream",
     "text": [
      "<class 'pandas.core.frame.DataFrame'>\n",
      "RangeIndex: 891 entries, 0 to 890\n",
      "Data columns (total 12 columns):\n",
      "PassengerId    891 non-null int64\n",
      "Survived       891 non-null int64\n",
      "Pclass         891 non-null int64\n",
      "Name           891 non-null object\n",
      "Sex            891 non-null object\n",
      "Age            714 non-null float64\n",
      "SibSp          891 non-null int64\n",
      "Parch          891 non-null int64\n",
      "Ticket         891 non-null object\n",
      "Fare           891 non-null float64\n",
      "Cabin          204 non-null object\n",
      "Embarked       889 non-null object\n",
      "dtypes: float64(2), int64(5), object(5)\n",
      "memory usage: 83.6+ KB\n"
     ]
    }
   ],
   "source": [
    "titanic_df.info()"
   ]
  },
  {
   "cell_type": "markdown",
   "metadata": {},
   "source": [
    "After printing out the dataset information above, I find that the Age, Cabin and Embarked columns are missing entries. Fortunately, the Cabin column is not relevant to the analysis of the data, so I will remove that column. Also I will need to remove the entries with the missing ages and embarked port."
   ]
  },
  {
   "cell_type": "markdown",
   "metadata": {},
   "source": [
    "## 4.2 Remove unwanted columnsRemove missing ages\n",
    "In order to populate the missing ages I will first remove those un wanted data from data set like Cabin, Name and Ticket first. \n"
   ]
  },
  {
   "cell_type": "code",
   "execution_count": 77,
   "metadata": {
    "collapsed": false
   },
   "outputs": [],
   "source": [
    "titanic_df = titanic_df.drop(['Cabin','Name','Ticket'], axis=1)"
   ]
  },
  {
   "cell_type": "markdown",
   "metadata": {},
   "source": [
    "Then we check if it is removed:"
   ]
  },
  {
   "cell_type": "code",
   "execution_count": 78,
   "metadata": {
    "collapsed": false
   },
   "outputs": [
    {
     "name": "stdout",
     "output_type": "stream",
     "text": [
      "<class 'pandas.core.frame.DataFrame'>\n",
      "RangeIndex: 891 entries, 0 to 890\n",
      "Data columns (total 9 columns):\n",
      "PassengerId    891 non-null int64\n",
      "Survived       891 non-null int64\n",
      "Pclass         891 non-null int64\n",
      "Sex            891 non-null object\n",
      "Age            714 non-null float64\n",
      "SibSp          891 non-null int64\n",
      "Parch          891 non-null int64\n",
      "Fare           891 non-null float64\n",
      "Embarked       889 non-null object\n",
      "dtypes: float64(2), int64(5), object(2)\n",
      "memory usage: 62.7+ KB\n"
     ]
    }
   ],
   "source": [
    "titanic_df.info()"
   ]
  },
  {
   "cell_type": "markdown",
   "metadata": {},
   "source": [
    "## 4.3 Handle datas without conplete information"
   ]
  },
  {
   "cell_type": "markdown",
   "metadata": {},
   "source": [
    "Next remove those data without age and enbarked infomation:"
   ]
  },
  {
   "cell_type": "code",
   "execution_count": 79,
   "metadata": {
    "collapsed": false,
    "scrolled": true
   },
   "outputs": [],
   "source": [
    "titanic_df = titanic_df.dropna()"
   ]
  },
  {
   "cell_type": "markdown",
   "metadata": {},
   "source": [
    "After this，I check the data again:"
   ]
  },
  {
   "cell_type": "code",
   "execution_count": 80,
   "metadata": {
    "collapsed": false
   },
   "outputs": [
    {
     "name": "stdout",
     "output_type": "stream",
     "text": [
      "<class 'pandas.core.frame.DataFrame'>\n",
      "Int64Index: 712 entries, 0 to 890\n",
      "Data columns (total 9 columns):\n",
      "PassengerId    712 non-null int64\n",
      "Survived       712 non-null int64\n",
      "Pclass         712 non-null int64\n",
      "Sex            712 non-null object\n",
      "Age            712 non-null float64\n",
      "SibSp          712 non-null int64\n",
      "Parch          712 non-null int64\n",
      "Fare           712 non-null float64\n",
      "Embarked       712 non-null object\n",
      "dtypes: float64(2), int64(5), object(2)\n",
      "memory usage: 55.6+ KB\n"
     ]
    }
   ],
   "source": [
    "titanic_df.info()"
   ]
  },
  {
   "cell_type": "markdown",
   "metadata": {},
   "source": [
    "Now we can see that all datas have the same amount of information. Totally there are 712 entries."
   ]
  },
  {
   "cell_type": "markdown",
   "metadata": {},
   "source": [
    "## 4.4 Mapping data\n",
    "In order to intrepret the data easier I modified:\n",
    "\n",
    "Survived - changed to boolean (1 = True, 0 = False)\n",
    "\n",
    "Pclass - changed to Socio-Economic status (1st - Upper Class, 2nd - Middle Class, 3rd - Lower Class)\n",
    "\n",
    "Embarked - changed to name of embarkation port (C = Cherbourg; Q = Queenstown; S = Southampton)\n",
    "\n",
    "I will also add a Family Size column so that I can compare the size of families with the number of survivors.\n"
   ]
  },
  {
   "cell_type": "code",
   "execution_count": 81,
   "metadata": {
    "collapsed": false
   },
   "outputs": [],
   "source": [
    "def map_data(df):\n",
    "    survived_map = {0: False, 1: True}\n",
    "    df['Survived'] = df['Survived'].map(survived_map)\n",
    "\n",
    "    pclass_map = {1: 'Upper Class', 2: 'Middle Class', 3: 'Lower Class'}\n",
    "    df['Pclass'] = df['Pclass'].map(pclass_map)\n",
    "\n",
    "    port_map = {'S': 'Southampton', 'C': 'Cherbourg','Q':'Queenstown'}\n",
    "    df['Embarked'] = df['Embarked'].map(port_map)\n",
    "    \n",
    "    df['FamilySize'] = df['SibSp'] + df['Parch']\n",
    "    \n",
    "    return df\n",
    "\n",
    "titanic_df = map_data(titanic_df)"
   ]
  },
  {
   "cell_type": "markdown",
   "metadata": {},
   "source": [
    "## 4.5 Grouping / Binning Ages\n",
    "To make the ages easier to analyse I decide to group / bin the ages. This way we can compare groups of ages instead of individual ages."
   ]
  },
  {
   "cell_type": "code",
   "execution_count": 82,
   "metadata": {
    "collapsed": false
   },
   "outputs": [],
   "source": [
    "age_labels = ['0-9', '10-19', '20-29', '30-39', '40-49', '50-59', '60-69', '70-79']\n",
    "titanic_df['age_group'] = pd.cut(titanic_df.Age, range(0, 81, 10), right=False, labels=age_labels)"
   ]
  },
  {
   "cell_type": "code",
   "execution_count": 83,
   "metadata": {
    "collapsed": false
   },
   "outputs": [
    {
     "data": {
      "text/html": [
       "<div>\n",
       "<table border=\"1\" class=\"dataframe\">\n",
       "  <thead>\n",
       "    <tr style=\"text-align: right;\">\n",
       "      <th></th>\n",
       "      <th>PassengerId</th>\n",
       "      <th>Survived</th>\n",
       "      <th>Pclass</th>\n",
       "      <th>Sex</th>\n",
       "      <th>Age</th>\n",
       "      <th>SibSp</th>\n",
       "      <th>Parch</th>\n",
       "      <th>Fare</th>\n",
       "      <th>Embarked</th>\n",
       "      <th>FamilySize</th>\n",
       "      <th>age_group</th>\n",
       "    </tr>\n",
       "  </thead>\n",
       "  <tbody>\n",
       "    <tr>\n",
       "      <th>0</th>\n",
       "      <td>1</td>\n",
       "      <td>False</td>\n",
       "      <td>Lower Class</td>\n",
       "      <td>male</td>\n",
       "      <td>22.0</td>\n",
       "      <td>1</td>\n",
       "      <td>0</td>\n",
       "      <td>7.2500</td>\n",
       "      <td>Southampton</td>\n",
       "      <td>1</td>\n",
       "      <td>20-29</td>\n",
       "    </tr>\n",
       "    <tr>\n",
       "      <th>1</th>\n",
       "      <td>2</td>\n",
       "      <td>True</td>\n",
       "      <td>Upper Class</td>\n",
       "      <td>female</td>\n",
       "      <td>38.0</td>\n",
       "      <td>1</td>\n",
       "      <td>0</td>\n",
       "      <td>71.2833</td>\n",
       "      <td>Cherbourg</td>\n",
       "      <td>1</td>\n",
       "      <td>30-39</td>\n",
       "    </tr>\n",
       "    <tr>\n",
       "      <th>2</th>\n",
       "      <td>3</td>\n",
       "      <td>True</td>\n",
       "      <td>Lower Class</td>\n",
       "      <td>female</td>\n",
       "      <td>26.0</td>\n",
       "      <td>0</td>\n",
       "      <td>0</td>\n",
       "      <td>7.9250</td>\n",
       "      <td>Southampton</td>\n",
       "      <td>0</td>\n",
       "      <td>20-29</td>\n",
       "    </tr>\n",
       "    <tr>\n",
       "      <th>3</th>\n",
       "      <td>4</td>\n",
       "      <td>True</td>\n",
       "      <td>Upper Class</td>\n",
       "      <td>female</td>\n",
       "      <td>35.0</td>\n",
       "      <td>1</td>\n",
       "      <td>0</td>\n",
       "      <td>53.1000</td>\n",
       "      <td>Southampton</td>\n",
       "      <td>1</td>\n",
       "      <td>30-39</td>\n",
       "    </tr>\n",
       "    <tr>\n",
       "      <th>4</th>\n",
       "      <td>5</td>\n",
       "      <td>False</td>\n",
       "      <td>Lower Class</td>\n",
       "      <td>male</td>\n",
       "      <td>35.0</td>\n",
       "      <td>0</td>\n",
       "      <td>0</td>\n",
       "      <td>8.0500</td>\n",
       "      <td>Southampton</td>\n",
       "      <td>0</td>\n",
       "      <td>30-39</td>\n",
       "    </tr>\n",
       "    <tr>\n",
       "      <th>6</th>\n",
       "      <td>7</td>\n",
       "      <td>False</td>\n",
       "      <td>Upper Class</td>\n",
       "      <td>male</td>\n",
       "      <td>54.0</td>\n",
       "      <td>0</td>\n",
       "      <td>0</td>\n",
       "      <td>51.8625</td>\n",
       "      <td>Southampton</td>\n",
       "      <td>0</td>\n",
       "      <td>50-59</td>\n",
       "    </tr>\n",
       "    <tr>\n",
       "      <th>7</th>\n",
       "      <td>8</td>\n",
       "      <td>False</td>\n",
       "      <td>Lower Class</td>\n",
       "      <td>male</td>\n",
       "      <td>2.0</td>\n",
       "      <td>3</td>\n",
       "      <td>1</td>\n",
       "      <td>21.0750</td>\n",
       "      <td>Southampton</td>\n",
       "      <td>4</td>\n",
       "      <td>0-9</td>\n",
       "    </tr>\n",
       "    <tr>\n",
       "      <th>8</th>\n",
       "      <td>9</td>\n",
       "      <td>True</td>\n",
       "      <td>Lower Class</td>\n",
       "      <td>female</td>\n",
       "      <td>27.0</td>\n",
       "      <td>0</td>\n",
       "      <td>2</td>\n",
       "      <td>11.1333</td>\n",
       "      <td>Southampton</td>\n",
       "      <td>2</td>\n",
       "      <td>20-29</td>\n",
       "    </tr>\n",
       "    <tr>\n",
       "      <th>9</th>\n",
       "      <td>10</td>\n",
       "      <td>True</td>\n",
       "      <td>Middle Class</td>\n",
       "      <td>female</td>\n",
       "      <td>14.0</td>\n",
       "      <td>1</td>\n",
       "      <td>0</td>\n",
       "      <td>30.0708</td>\n",
       "      <td>Cherbourg</td>\n",
       "      <td>1</td>\n",
       "      <td>10-19</td>\n",
       "    </tr>\n",
       "    <tr>\n",
       "      <th>10</th>\n",
       "      <td>11</td>\n",
       "      <td>True</td>\n",
       "      <td>Lower Class</td>\n",
       "      <td>female</td>\n",
       "      <td>4.0</td>\n",
       "      <td>1</td>\n",
       "      <td>1</td>\n",
       "      <td>16.7000</td>\n",
       "      <td>Southampton</td>\n",
       "      <td>2</td>\n",
       "      <td>0-9</td>\n",
       "    </tr>\n",
       "  </tbody>\n",
       "</table>\n",
       "</div>"
      ],
      "text/plain": [
       "    PassengerId Survived        Pclass     Sex   Age  SibSp  Parch     Fare  \\\n",
       "0             1    False   Lower Class    male  22.0      1      0   7.2500   \n",
       "1             2     True   Upper Class  female  38.0      1      0  71.2833   \n",
       "2             3     True   Lower Class  female  26.0      0      0   7.9250   \n",
       "3             4     True   Upper Class  female  35.0      1      0  53.1000   \n",
       "4             5    False   Lower Class    male  35.0      0      0   8.0500   \n",
       "6             7    False   Upper Class    male  54.0      0      0  51.8625   \n",
       "7             8    False   Lower Class    male   2.0      3      1  21.0750   \n",
       "8             9     True   Lower Class  female  27.0      0      2  11.1333   \n",
       "9            10     True  Middle Class  female  14.0      1      0  30.0708   \n",
       "10           11     True   Lower Class  female   4.0      1      1  16.7000   \n",
       "\n",
       "       Embarked  FamilySize age_group  \n",
       "0   Southampton           1     20-29  \n",
       "1     Cherbourg           1     30-39  \n",
       "2   Southampton           0     20-29  \n",
       "3   Southampton           1     30-39  \n",
       "4   Southampton           0     30-39  \n",
       "6   Southampton           0     50-59  \n",
       "7   Southampton           4       0-9  \n",
       "8   Southampton           2     20-29  \n",
       "9     Cherbourg           1     10-19  \n",
       "10  Southampton           2       0-9  "
      ]
     },
     "execution_count": 83,
     "metadata": {},
     "output_type": "execute_result"
    }
   ],
   "source": [
    "titanic_df.head(10)"
   ]
  },
  {
   "cell_type": "markdown",
   "metadata": {},
   "source": [
    "# 5. Analysis of data\n",
    "## 5.1 Number of Survivors\n",
    "Before trying to determine the characteristics of a passenger that would make them more likely to survive, the number of survivors in the sample should be compared to the actual number of survivors. Based on the information provided by the source of the dataset(Kaggle) there were 2224 passengers and 722 survivors."
   ]
  },
  {
   "cell_type": "code",
   "execution_count": 84,
   "metadata": {
    "collapsed": false
   },
   "outputs": [
    {
     "data": {
      "text/html": [
       "<table border=\"1\" cellpadding=\"3\" cellspacing=\"0\"  style=\"border:1px solid black;border-collapse:collapse;\"><tr><td>Item</td><td>Kaggle&nbsp(Count)</td><td>Kaggle&nbsp(%)</td><td>Sample&nbspDataset&nbsp(Count)</td><td>Sample&nbspDataset&nbsp(%)</td></tr><tr><td>Total&nbspPassengers</td><td>2224</td><td>-</td><td>712</td><td>-</td></tr><tr><td>Survivors</td><td>722</td><td>32.46%</td><td>288</td><td>40.45%</td></tr><tr><td>Non-survivors</td><td>1502</td><td>67.54%</td><td>424</td><td>59.55%</td></tr></table>"
      ],
      "text/plain": [
       "<ipy_table.IpyTable at 0x11d5ae4d0>"
      ]
     },
     "execution_count": 84,
     "metadata": {},
     "output_type": "execute_result"
    }
   ],
   "source": [
    "kaggle_passengers = 2224\n",
    "kaggle_nonsurvivors = 1502\n",
    "kaggle_survivors = kaggle_passengers - kaggle_nonsurvivors \n",
    "\n",
    "sample_passengers = len(titanic_df)\n",
    "sample_survivors = len(titanic_df[titanic_df.Survived==True])\n",
    "sample_nonsurvivors = sample_passengers - sample_survivors\n",
    "\n",
    "\n",
    "survivors_data = titanic_df[titanic_df.Survived==True]\n",
    "non_survivors_data = titanic_df[titanic_df.Survived==False]\n",
    "\n",
    "survivors = [\n",
    "    ['Item','Kaggle (Count)','Kaggle (%)' ,'Sample Dataset (Count)', 'Sample Dataset (%)'],\n",
    "    ['Total Passengers',kaggle_passengers,'-', sample_passengers,'-'],\n",
    "    ['Survivors',\n",
    "         kaggle_survivors,\n",
    "         calculate_percentage(kaggle_survivors,kaggle_passengers, True), \n",
    "         sample_survivors,\n",
    "         calculate_percentage(sample_survivors,sample_passengers, True) \n",
    "    ],\n",
    "    ['Non-survivors', \n",
    "         kaggle_nonsurvivors,\n",
    "         calculate_percentage(kaggle_nonsurvivors,kaggle_passengers, True), \n",
    "         sample_nonsurvivors,\n",
    "         calculate_percentage(sample_nonsurvivors,sample_passengers, True) \n",
    "    ]\n",
    "]\n",
    "tbl.make_table(survivors)"
   ]
  },
  {
   "cell_type": "markdown",
   "metadata": {},
   "source": [
    "When comparing the number of survivors from the sample dataset to the actual number of survivors we can see that the percentage of survivors is realitively close to each other, but still can tell some diffrences."
   ]
  },
  {
   "cell_type": "markdown",
   "metadata": {},
   "source": [
    "## 5.2 Invest which gender had a better chance of survival\n",
    "In order to answer this I need to look at how many males and females were on board and which gender had the highest survival rate.\n",
    "\n",
    "### Hypothesis\n",
    "\n",
    "The hypothesis for this question is that the gender does impact the chances of survival.\n",
    "\n",
    "H0 = Gender has no impact on survivability\n",
    "\n",
    "HA = Gender does impact the chances of survivabily\n",
    "\n",
    "### Count of Survivors by Gender"
   ]
  },
  {
   "cell_type": "code",
   "execution_count": 85,
   "metadata": {
    "collapsed": false
   },
   "outputs": [
    {
     "name": "stdout",
     "output_type": "stream",
     "text": [
      "Sex       female  male\n",
      "Survived              \n",
      "False         64   360\n",
      "True         195    93\n"
     ]
    }
   ],
   "source": [
    "table = pd.crosstab(titanic_df['Survived'],titanic_df['Sex'])\n",
    "print table"
   ]
  },
  {
   "cell_type": "markdown",
   "metadata": {},
   "source": [
    "### Proportion of survivors by Gender"
   ]
  },
  {
   "cell_type": "code",
   "execution_count": 86,
   "metadata": {
    "collapsed": false
   },
   "outputs": [
    {
     "name": "stdout",
     "output_type": "stream",
     "text": [
      "Sex\n",
      "female    0.752896\n",
      "male      0.205298\n",
      "Name: Survived, dtype: float64\n"
     ]
    }
   ],
   "source": [
    "print titanic_df.groupby('Sex').Survived.mean()"
   ]
  },
  {
   "cell_type": "code",
   "execution_count": 87,
   "metadata": {
    "collapsed": false
   },
   "outputs": [
    {
     "data": {
      "text/plain": [
       "<matplotlib.text.Text at 0x11d3f3b90>"
      ]
     },
     "execution_count": 87,
     "metadata": {},
     "output_type": "execute_result"
    },
    {
     "data": {
      "image/png": "[encoded data removed]",
      "text/plain": [
       "<matplotlib.figure.Figure at 0x11d6537d0>"
      ]
     },
     "metadata": {},
     "output_type": "display_data"
    }
   ],
   "source": [
    "survivors_gender = survivors_data.groupby(['Sex']).size().values\n",
    "non_survivors_gender = non_survivors_data.groupby(['Sex']).size().values\n",
    "\n",
    "totals = survivors_gender + non_survivors_gender\n",
    "\n",
    "data1_percentages = calculate_percentage(survivors_gender, totals)*100 \n",
    "data2_percentages = calculate_percentage(non_survivors_gender, totals)*100\n",
    "\n",
    "gender_categories = ['Famele', 'Male']\n",
    "\n",
    "f, (ax1, ax2) = plt.subplots(1, 2, figsize = (10, 5))\n",
    "\n",
    "ax1.bar(range(len(survivors_gender)), survivors_gender, label='Survivors', alpha=1.0, color='g')\n",
    "ax1.bar(range(len(non_survivors_gender)), non_survivors_gender, bottom=survivors_gender, label='Non-Survivors', \n",
    "        alpha=1.0, color='r')\n",
    "plt.sca(ax1)\n",
    "plt.xticks([0.4, 1.4], gender_categories )\n",
    "ax1.set_ylabel(\"Count\")\n",
    "ax1.set_xlabel(\"\")\n",
    "ax1.set_title(\"Count of survivors by gender\",fontsize=14)\n",
    "plt.legend(loc='upper left')\n",
    "\n",
    "ax2.bar(range(len(data1_percentages)), data1_percentages, alpha=1.0, color='g')\n",
    "ax2.bar(range(len(data2_percentages)), data2_percentages, bottom=data1_percentages, alpha=1.0, color='r')\n",
    "plt.sca(ax2)\n",
    "plt.xticks([0.4, 1.4],  gender_categories)\n",
    "ax2.set_ylabel(\"Percentage\")\n",
    "ax2.set_xlabel(\"\")\n",
    "ax2.set_title(\"% of survivors by gender\",fontsize=14)"
   ]
  },
  {
   "cell_type": "markdown",
   "metadata": {},
   "source": [
    "The plots and proportions above show that there were a significant difference between the number of males on board the Titanic compared to the number of females. However, the second plot (% of survivors by gender) shows that Females had a higher proportion (75.29%) of survivors compared to the proportion of males (20.53%). This shows that females had a greater chance of survival in Titanic.\n",
    "\n",
    "As the P-Value is less than 0.05, the probability of that the age group will impact the chances of survival is high. Therefore I should reject the null hypothesis.\n",
    "\n",
    "\n",
    "### Hypothesis Test\n",
    "For this test I will be using the chi-sqaure test for independence"
   ]
  },
  {
   "cell_type": "code",
   "execution_count": 98,
   "metadata": {
    "collapsed": false
   },
   "outputs": [
    {
     "data": {
      "text/html": [
       "<table border=\"1\" cellpadding=\"3\" cellspacing=\"0\"  style=\"border:1px solid black;border-collapse:collapse;\"><tr><td>Item</td><td>Value</td></tr><tr><td>Chi-Square&nbspTest</td><td>202.8694</td></tr><tr><td>P-Value</td><td>0.0000</td></tr></table>"
      ],
      "text/plain": [
       "<ipy_table.IpyTable at 0x11d653b10>"
      ]
     },
     "execution_count": 98,
     "metadata": {},
     "output_type": "execute_result"
    }
   ],
   "source": [
    "table = pd.crosstab([titanic_df['Survived']], titanic_df['Sex'])\n",
    "chi2, p, dof, expected = stats.chi2_contingency(table.values)\n",
    "results = [\n",
    "    ['Item','Value'],\n",
    "    ['Chi-Square Test',chi2],\n",
    "    ['P-Value', p]\n",
    "]\n",
    "tbl.make_table(results)"
   ]
  },
  {
   "cell_type": "markdown",
   "metadata": {},
   "source": [
    "The P-Value is less than 0.05 the probability of that the gender will impact the chances of survival is high. Therefore I can reject the null hypothesis. The plots above confirm this result.\n"
   ]
  },
  {
   "cell_type": "markdown",
   "metadata": {},
   "source": [
    "## Which social had better chance to survive?"
   ]
  },
  {
   "cell_type": "markdown",
   "metadata": {},
   "source": [
    "### Hypothesis\n",
    "\n",
    "The hypothesis for this question is that the social class does impact the chances of survival\n",
    "\n",
    "H0 = Social Class has no impact on survivability\n",
    "\n",
    "HA = Social Class does impact the chances of survivabily"
   ]
  },
  {
   "cell_type": "markdown",
   "metadata": {},
   "source": [
    "First count of suvivors by class:"
   ]
  },
  {
   "cell_type": "code",
   "execution_count": 89,
   "metadata": {
    "collapsed": false
   },
   "outputs": [
    {
     "name": "stdout",
     "output_type": "stream",
     "text": [
      "Pclass    Lower Class  Middle Class  Upper Class\n",
      "Survived                                        \n",
      "False             270            90           64\n",
      "True               85            83          120\n"
     ]
    }
   ],
   "source": [
    "table = pd.crosstab(titanic_df['Survived'],titanic_df['Pclass'])\n",
    "print table"
   ]
  },
  {
   "cell_type": "markdown",
   "metadata": {},
   "source": [
    "Now calculate proportion of survivors by class:"
   ]
  },
  {
   "cell_type": "code",
   "execution_count": 90,
   "metadata": {
    "collapsed": false
   },
   "outputs": [
    {
     "data": {
      "text/plain": [
       "<matplotlib.text.Text at 0x11d554490>"
      ]
     },
     "execution_count": 90,
     "metadata": {},
     "output_type": "execute_result"
    },
    {
     "data": {
      "image/png": "[encoded data removed]",
      "text/plain": [
       "<matplotlib.figure.Figure at 0x11d885c50>"
      ]
     },
     "metadata": {},
     "output_type": "display_data"
    }
   ],
   "source": [
    "survivors_class = survivors_data.groupby(['Pclass']).size().values\n",
    "non_survivors_class = non_survivors_data.groupby(['Pclass']).size().values\n",
    "\n",
    "totals = survivors_class + non_survivors_class\n",
    "\n",
    "data1_percentages = calculate_percentage(survivors_class, totals)*100 \n",
    "data2_percentages = calculate_percentage(non_survivors_class, totals)*100 \n",
    "\n",
    "\n",
    "class_categories = ['Lower Class', 'Middle Class', 'Upper Class']\n",
    "\n",
    "\n",
    "f, (ax1, ax2) = plt.subplots(1, 2, figsize=(10,5))\n",
    "\n",
    "ax1.bar(range(len(survivors_class)), survivors_class, label='Survivors', alpha=1.0, color='g')\n",
    "ax1.bar(range(len(non_survivors_class)), non_survivors_class, bottom=survivors_class, label='Non-Survivors', alpha=1.0,\n",
    "        color='r')\n",
    "plt.sca(ax1)\n",
    "plt.xticks([0.4, 1.4, 2.4], class_categories )\n",
    "ax1.set_ylabel(\"Count\")\n",
    "ax1.set_xlabel(\"\")\n",
    "ax1.set_title(\"Count of survivors by class\",fontsize=14)\n",
    "plt.legend(loc='upper right')\n",
    "\n",
    "ax2.bar(range(len(data1_percentages)), data1_percentages, alpha=1.0, color='g')\n",
    "ax2.bar(range(len(data2_percentages)), data2_percentages, bottom=data1_percentages, alpha=1.0, color='r')\n",
    "plt.sca(ax2)\n",
    "plt.xticks([0.4, 1.4, 2.4],  class_categories)\n",
    "ax2.set_ylabel(\"Percentage\")\n",
    "ax2.set_xlabel(\"\")\n",
    "ax2.set_title(\"% of survivors by class\",fontsize=14)"
   ]
  },
  {
   "cell_type": "markdown",
   "metadata": {},
   "source": [
    "The graphs above shows that whilst the lower class had more passengers than all classes, and more survivors than the middle class, the lower class had the lowest survival rate. The Upper Class passengers had the highest survival rate\n",
    "\n",
    "\n",
    "### Hypothesis Test\n",
    "For this test I will be using the chi-sqaure test for independence"
   ]
  },
  {
   "cell_type": "code",
   "execution_count": 91,
   "metadata": {
    "collapsed": false
   },
   "outputs": [
    {
     "data": {
      "text/html": [
       "<table border=\"1\" cellpadding=\"3\" cellspacing=\"0\"  style=\"border:1px solid black;border-collapse:collapse;\"><tr><td>Item</td><td>Value</td></tr><tr><td>Chi-Square&nbspTest</td><td>91.0807</td></tr><tr><td>P-Value</td><td>0.0000</td></tr></table>"
      ],
      "text/plain": [
       "<ipy_table.IpyTable at 0x11d5ae950>"
      ]
     },
     "execution_count": 91,
     "metadata": {},
     "output_type": "execute_result"
    }
   ],
   "source": [
    "table = pd.crosstab([titanic_df['Survived']], titanic_df['Pclass'])\n",
    "chi2, p, dof, expected = stats.chi2_contingency(table.values)\n",
    "results = [\n",
    "    ['Item','Value'],\n",
    "    ['Chi-Square Test',chi2],\n",
    "    ['P-Value', p]\n",
    "]\n",
    "tbl.make_table(results)"
   ]
  },
  {
   "cell_type": "markdown",
   "metadata": {},
   "source": [
    "The P-Value is less than 0.05 the probability of that the social class will impact the chances of survival is high. Therefore I can reject the null hypothesis. The plots above confirm this result."
   ]
  },
  {
   "cell_type": "markdown",
   "metadata": {},
   "source": [
    "## 5.4 Which age group had a better chance of survival?\n",
    "\n",
    "### Hypothesis\n",
    "The hypothesis for this question is that the age group does impact the chances of survival\n",
    "\n",
    "H0 = Age Group has no impact on survivability\n",
    "\n",
    "HA = Age Group does impact the chances of survivabily\n",
    "\n",
    "### Distribution of Age Groups"
   ]
  },
  {
   "cell_type": "code",
   "execution_count": 100,
   "metadata": {
    "collapsed": false
   },
   "outputs": [
    {
     "data": {
      "text/plain": [
       "<matplotlib.text.Text at 0x11e943c50>"
      ]
     },
     "execution_count": 100,
     "metadata": {},
     "output_type": "execute_result"
    },
    {
     "data": {
      "image/png": "[encoded data removed]",
      "text/plain": [
       "<matplotlib.figure.Figure at 0x11dcbd050>"
      ]
     },
     "metadata": {},
     "output_type": "display_data"
    }
   ],
   "source": [
    "titanic_df.groupby(['age_group']).size().plot(kind = 'pie')\n",
    "plt.title(\"Distribution of Age Groups\",fontsize=14)\n"
   ]
  },
  {
   "cell_type": "markdown",
   "metadata": {},
   "source": [
    "I found that passengers in 20 - 29 survived most."
   ]
  },
  {
   "cell_type": "markdown",
   "metadata": {},
   "source": [
    "### Poportion of survivors by age group"
   ]
  },
  {
   "cell_type": "code",
   "execution_count": 101,
   "metadata": {
    "collapsed": false
   },
   "outputs": [
    {
     "name": "stdout",
     "output_type": "stream",
     "text": [
      "age_group\n",
      "0-9      0.612903\n",
      "10-19    0.401961\n",
      "20-29    0.350000\n",
      "30-39    0.433735\n",
      "40-49    0.382022\n",
      "50-59    0.416667\n",
      "60-69    0.277778\n",
      "70-79    0.000000\n",
      "Name: Survived, dtype: float64\n"
     ]
    }
   ],
   "source": [
    "print titanic_df.groupby(['age_group']).Survived.mean()"
   ]
  },
  {
   "cell_type": "code",
   "execution_count": 102,
   "metadata": {
    "collapsed": false
   },
   "outputs": [
    {
     "data": {
      "text/plain": [
       "<matplotlib.text.Text at 0x11de97890>"
      ]
     },
     "execution_count": 102,
     "metadata": {},
     "output_type": "execute_result"
    },
    {
     "data": {
      "image/png": "[encoded data removed]",
      "text/plain": [
       "<matplotlib.figure.Figure at 0x11e443250>"
      ]
     },
     "metadata": {},
     "output_type": "display_data"
    }
   ],
   "source": [
    "survivors_age_group = survivors_data.groupby(['age_group']).size().values\n",
    "non_survivors_age_group = non_survivors_data.groupby(['age_group']).size().values\n",
    "\n",
    "totals = survivors_age_group + non_survivors_age_group\n",
    "\n",
    "data1_percentages = calculate_percentage(survivors_age_group, totals)*100 \n",
    "data2_percentages = calculate_percentage(non_survivors_age_group, totals)*100 \n",
    "\n",
    "\n",
    "tick_spacing = np.array(range(len(age_labels)))+0.4\n",
    "\n",
    "\n",
    "f, (ax1, ax2) = plt.subplots(1, 2, figsize=(10,5))\n",
    "\n",
    "ax1.bar(range(len(survivors_age_group)), survivors_age_group, label='Survivors', alpha=1.0, color='g')\n",
    "ax1.bar(range(len(non_survivors_age_group)), non_survivors_age_group, bottom=survivors_age_group, label='Non-Survivors',\n",
    "        alpha=1.0, color='r')\n",
    "plt.sca(ax1)\n",
    "plt.xticks(tick_spacing, age_labels )\n",
    "ax1.set_ylabel(\"Count\")\n",
    "ax1.set_xlabel(\"\")\n",
    "ax1.set_title(\"Count of survivors by age group\",fontsize=14)\n",
    "plt.legend(loc='upper right')\n",
    "\n",
    "ax2.bar(range(len(data1_percentages)), data1_percentages, alpha=1.0, color='g')\n",
    "ax2.bar(range(len(data2_percentages)), data2_percentages, bottom=data1_percentages, alpha=1.0, color='r')\n",
    "plt.sca(ax2)\n",
    "plt.xticks(tick_spacing,  age_labels)\n",
    "ax2.set_ylabel(\"Percentage\")\n",
    "ax2.set_xlabel(\"\")\n",
    "ax2.set_title(\"% of survivors by age group\",fontsize=14)"
   ]
  },
  {
   "cell_type": "markdown",
   "metadata": {},
   "source": [
    "When looking at proportions and percentages of survivors per age group, I thought that this analysis should take into consideration about the gender / sex of the passengers as well."
   ]
  },
  {
   "cell_type": "code",
   "execution_count": 103,
   "metadata": {
    "collapsed": false
   },
   "outputs": [
    {
     "name": "stdout",
     "output_type": "stream",
     "text": [
      "Sex     age_group\n",
      "female  0-9          0.633333\n",
      "        10-19        0.755556\n",
      "        20-29        0.722222\n",
      "        30-39        0.830508\n",
      "        40-49        0.687500\n",
      "        50-59        0.888889\n",
      "        60-69        1.000000\n",
      "male    0-9          0.593750\n",
      "        10-19        0.122807\n",
      "        20-29        0.168919\n",
      "        30-39        0.214953\n",
      "        40-49        0.210526\n",
      "        50-59        0.133333\n",
      "        60-69        0.133333\n",
      "        70-79        0.000000\n",
      "Name: Survived, dtype: float64\n"
     ]
    }
   ],
   "source": [
    "print titanic_df.groupby(['Sex','age_group']).Survived.mean()"
   ]
  },
  {
   "cell_type": "code",
   "execution_count": 104,
   "metadata": {
    "collapsed": false
   },
   "outputs": [
    {
     "data": {
      "image/png": "[encoded data removed]",
      "text/plain": [
       "<matplotlib.figure.Figure at 0x11d540f90>"
      ]
     },
     "metadata": {},
     "output_type": "display_data"
    }
   ],
   "source": [
    "male_data = titanic_df[titanic_df.Sex == \"male\"].groupby('age_group').Survived.mean().values\n",
    "female_data = titanic_df[titanic_df.Sex == \"female\"].groupby('age_group').Survived.mean().values\n",
    "ax = plt.subplot()\n",
    "male_plt_position = np.array(range(len(age_labels)))\n",
    "female_plt_position = np.array(range(len(age_labels)))+0.4\n",
    "ax.bar(male_plt_position, male_data,width=0.4,label='Male',color='b')\n",
    "ax.bar(female_plt_position, female_data,width=0.4,label='Female',color='r')\n",
    "plt.xticks(tick_spacing,  age_labels)\n",
    "ax.set_ylabel(\"Proportion\")\n",
    "ax.set_xlabel(\"Age Group\")\n",
    "ax.set_title(\"Proportion of survivors by age group / Gender\",fontsize=14)\n",
    "plt.legend(loc='best')\n",
    "plt.show()"
   ]
  },
  {
   "cell_type": "markdown",
   "metadata": {},
   "source": [
    "After relooking at the proportion of survivors by age group and gender, the data shows that the notion of women and children to be given preferential treatment over men. The plot \"Proportion of survivors by age group / gender\", shows that children (0-9 years old, whatever male or female) and women (all ages) had a much higher proportion of survivors than adult male. This supports the story of the seats in the lifeboats been given to Women and Children first.\n",
    "\n",
    "### Hypothesis Test\n",
    "For this test I will be using the chi-sqaure test for independence"
   ]
  },
  {
   "cell_type": "code",
   "execution_count": 105,
   "metadata": {
    "collapsed": false
   },
   "outputs": [
    {
     "data": {
      "text/html": [
       "<table border=\"1\" cellpadding=\"3\" cellspacing=\"0\"  style=\"border:1px solid black;border-collapse:collapse;\"><tr><td>Item</td><td>Value</td></tr><tr><td>Chi-Square&nbspTest</td><td>19.9865</td></tr><tr><td>P-Value</td><td>0.0056</td></tr></table>"
      ],
      "text/plain": [
       "<ipy_table.IpyTable at 0x10ca53b10>"
      ]
     },
     "execution_count": 105,
     "metadata": {},
     "output_type": "execute_result"
    }
   ],
   "source": [
    "table = pd.crosstab([titanic_df['Survived']], titanic_df['age_group'])\n",
    "chi2, p, dof, expected = stats.chi2_contingency(table.values)\n",
    "results = [\n",
    "    ['Item','Value'],\n",
    "    ['Chi-Square Test',chi2],\n",
    "    ['P-Value', p]\n",
    "]\n",
    "tbl.make_table(results)"
   ]
  },
  {
   "cell_type": "markdown",
   "metadata": {},
   "source": [
    "The P-Value is less than 0.05 the probability of that the age group will impact the chances of survival is high. Therefore I can reject the null hypothesis. The plots above confirm this result."
   ]
  },
  {
   "cell_type": "markdown",
   "metadata": {},
   "source": [
    "# 6.Conclusion\n",
    "## 6.1 Limitations of dataset\n"
   ]
  },
  {
   "cell_type": "markdown",
   "metadata": {},
   "source": [
    "The are a number of limitations with the Titanic Dataset, which are caused by: missing data only been a sample of the data. The missing data and size of the sample could skew the results for example the missing ages.\n",
    "There were 53 ages missing for females and 124 ages missing for males. I had a choice with how to handle the missing ages each with their pros and cons.\n",
    "\n",
    "With deleting the rows with the missing ages - this would limit the accuracy of the analysis of the gender and class, however the accuracy of the analysis of the Age factor would be more accurate\n",
    "\n",
    "The size of the sample data could also distort the results as we don't know if this is a random sample or if the selection of the data is biased or unbiased.\n",
    "\n",
    "## 6.2 Other variables\n",
    "\n",
    "As with most datasets the more information we have the better it can be analysed. I believe that we could add the following variable:\n",
    "\n",
    "life boat number - the reason why there were so many fatalities on board the Titanic was due to there not been enough lifeboats. I believe that if we knew the lifeboat number and the capacity of a lifeboat we could determine if it was possible for more people to survive.\n",
    "\n",
    "Which side did passengers left Titanic - I have heard some rumors that the survive rate on left and right side of Titanic are quite different, especially for male passengers. So I think it is worth to make a investigation about this factor.\n",
    "\n",
    "## 6.3 Conclusions\n",
    "\n",
    "I setup 3 hypothesis, and make investigation about them, after plot and calculation, here is the conclusions:\n",
    "\n",
    "First, Gender does impact the chances of survivabily, famale get a significant higher survive rate than male.\n",
    "\n",
    "Second, Social Class does impact the chances of survivabily, the higher class a person was, the higher survive rate they had.\n",
    "\n",
    "Third, Age Group does impact the chances of survivabily, Children have higher survive rate no matter they are boys or girls and elder people (over 70) had nearly no chance to survive in this sample."
   ]
  },
  {
   "cell_type": "markdown",
   "metadata": {},
   "source": [
    "# 7.Reference\n",
    "https://en.wikipedia.org/wiki/Chi-squared_test\n",
    "\n",
    "http://docs.scipy.org/doc/scipy-0.14.0/reference/generated/scipy.stats.chi2_contingency.html"
   ]
  }
 ],
 "metadata": {
  "anaconda-cloud": {},
  "kernelspec": {
   "display_name": "Python [Root]",
   "language": "python",
   "name": "Python [Root]"
  },
  "language_info": {
   "codemirror_mode": {
    "name": "ipython",
    "version": 2
   },
   "file_extension": ".py",
   "mimetype": "text/x-python",
   "name": "python",
   "nbconvert_exporter": "python",
   "pygments_lexer": "ipython2",
   "version": "2.7.12"
  }
 },
 "nbformat": 4,
 "nbformat_minor": 0
}
